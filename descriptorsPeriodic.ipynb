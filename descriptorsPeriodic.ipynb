{
 "cells": [
  {
   "cell_type": "code",
   "execution_count": 1,
   "id": "5ffeb6a2-819a-466d-babe-9e63ee8289d2",
   "metadata": {},
   "outputs": [],
   "source": [
    "from quippy.descriptors import Descriptor\n",
    "from ase.io import read\n",
    "import numpy as np"
   ]
  },
  {
   "cell_type": "code",
   "execution_count": 2,
   "id": "d1740060-d2ba-45ff-a14c-ad350b845e40",
   "metadata": {},
   "outputs": [],
   "source": [
    "mol = read(\"data.xyz@:\",format=\"extxyz\")\n"
   ]
  },
  {
   "cell_type": "code",
   "execution_count": 3,
   "id": "c80eaab9-c3be-463b-baae-bf2996ab9d8d",
   "metadata": {},
   "outputs": [
    {
     "name": "stdout",
     "output_type": "stream",
     "text": [
      "Atoms(symbols='OH2OH2OH2', pbc=False, calculator=SinglePointCalculator(...))\n"
     ]
    }
   ],
   "source": [
    "print(mol[0])"
   ]
  },
  {
   "cell_type": "code",
   "execution_count": 4,
   "id": "b6ca7e16-ffc6-4a22-b13e-cfee4a1718de",
   "metadata": {},
   "outputs": [],
   "source": [
    "Descriptor_description = f\"soap cutoff=3 zeta=2 delta = 1.0 atom_sigma = 1.0 l_max=2 n_max=3 add_species=F\"\n",
    "soap = Descriptor(Descriptor_description)\n",
    "soaps = soap.calc(mol, grad=True)"
   ]
  },
  {
   "cell_type": "code",
   "execution_count": 5,
   "id": "fe44e4d1-5903-4fc1-bc00-4d3ddcf8262f",
   "metadata": {},
   "outputs": [],
   "source": [
    "desc_soaps = []\n",
    "for a in soaps:\n",
    "    desc_soaps.extend(a[\"data\"])\n",
    "desc_soaps = np.array(desc_soaps)"
   ]
  },
  {
   "cell_type": "code",
   "execution_count": 11,
   "id": "0647c8ac-fbb8-4f2e-bfbf-a081584f22a3",
   "metadata": {},
   "outputs": [],
   "source": [
    "mol_non = mol[0].copy()\n",
    "mol_per = mol[0].copy()"
   ]
  },
  {
   "cell_type": "code",
   "execution_count": 18,
   "id": "ba76ca98-21cd-474c-8ffc-52968e1c7361",
   "metadata": {},
   "outputs": [],
   "source": [
    "mol_per.set_cell((1, 1, 1))\n",
    "mol_per.set_pbc((True, True, True))"
   ]
  },
  {
   "cell_type": "code",
   "execution_count": 26,
   "id": "c2cbc3b2-ee09-4cbd-b0db-370e67b6b7b6",
   "metadata": {},
   "outputs": [
    {
     "name": "stdout",
     "output_type": "stream",
     "text": [
      "0.9999999999999999\n",
      "0.9999999999999999\n",
      "1.0\n",
      "0.9999999999999999\n",
      "0.9999999999999999\n",
      "0.9999999999999999\n",
      "1.0\n",
      "0.9999999999999999\n",
      "1.0\n"
     ]
    }
   ],
   "source": [
    "s = soap.calc(mol_non)[\"data\"]\n",
    "for a in s:\n",
    "    print(np.linalg.norm(a))\n",
    "#print(soap.calc(mol_per)[\"data\"])\n",
    "#print(mol_per)"
   ]
  },
  {
   "cell_type": "code",
   "execution_count": null,
   "id": "cbad1ce9-fc98-4e5e-b95a-244287d3cc80",
   "metadata": {},
   "outputs": [],
   "source": [
    "p"
   ]
  }
 ],
 "metadata": {
  "kernelspec": {
   "display_name": "Python 3 (ipykernel)",
   "language": "python",
   "name": "python3"
  },
  "language_info": {
   "codemirror_mode": {
    "name": "ipython",
    "version": 3
   },
   "file_extension": ".py",
   "mimetype": "text/x-python",
   "name": "python",
   "nbconvert_exporter": "python",
   "pygments_lexer": "ipython3",
   "version": "3.8.9"
  }
 },
 "nbformat": 4,
 "nbformat_minor": 5
}
