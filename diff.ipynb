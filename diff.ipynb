{
 "cells": [
  {
   "cell_type": "code",
   "execution_count": 1,
   "id": "5ffeb6a2-819a-466d-babe-9e63ee8289d2",
   "metadata": {},
   "outputs": [],
   "source": [
    "from quippy.descriptors import Descriptor\n",
    "from ase.io import read\n",
    "import numpy as np"
   ]
  },
  {
   "cell_type": "code",
   "execution_count": 3,
   "id": "d1740060-d2ba-45ff-a14c-ad350b845e40",
   "metadata": {},
   "outputs": [
    {
     "name": "stdout",
     "output_type": "stream",
     "text": [
      "8\n"
     ]
    }
   ],
   "source": [
    "#mol = read(\"data.xyz@:\",format=\"extxyz\")\n",
    "all_molecules = read(\"/datavon1/DatabasesMolecules/LiH/LiH.xyz@:\",format=\"extxyz\")\n",
    "main = all_molecules[100]\n",
    "print(len(main))"
   ]
  },
  {
   "cell_type": "code",
   "execution_count": 7,
   "id": "b6ca7e16-ffc6-4a22-b13e-cfee4a1718de",
   "metadata": {},
   "outputs": [],
   "source": [
    "#Descriptor_description = f\"soap cutoff=3 zeta=2 delta = 1.0 atom_sigma = 1.0 l_max=2 n_max=3 add_species=F\"\n",
    "Descriptor_description = f\"soap cutoff=2.0 zeta=2 delta = 1.0 atom_sigma =1.0 l_max=2 n_max=3 n_Z=2 Z={{1 3}} n_species=2 species_Z={{1 3}}\"\n",
    "soap = Descriptor(Descriptor_description)\n",
    "soap_main = soap.calc(main, grad=True)"
   ]
  },
  {
   "cell_type": "code",
   "execution_count": 10,
   "id": "fe44e4d1-5903-4fc1-bc00-4d3ddcf8262f",
   "metadata": {},
   "outputs": [
    {
     "name": "stdout",
     "output_type": "stream",
     "text": [
      "['has_grad_data', 'ii', 'pos', 'grad_covariance_cutoff', 'covariance_cutoff', 'data', 'has_data', 'grad_data', 'ci', 'grad_index_0based']\n"
     ]
    }
   ],
   "source": [
    "print(list(soap_main))\n",
    "print(soap_main)"
   ]
  }
 ],
 "metadata": {
  "kernelspec": {
   "display_name": "Python 3.8.9 64-bit ('3.8.9')",
   "language": "python",
   "name": "python3"
  },
  "language_info": {
   "codemirror_mode": {
    "name": "ipython",
    "version": 3
   },
   "file_extension": ".py",
   "mimetype": "text/x-python",
   "name": "python",
   "nbconvert_exporter": "python",
   "pygments_lexer": "ipython3",
   "version": "3.8.9"
  },
  "vscode": {
   "interpreter": {
    "hash": "c7cf64c44a2dc897f0859c4b499c1391eebcf29c682000c09d4a9da5e97b3fd6"
   }
  }
 },
 "nbformat": 4,
 "nbformat_minor": 5
}
