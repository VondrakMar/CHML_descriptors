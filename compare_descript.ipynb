{
 "cells": [
  {
   "cell_type": "code",
   "execution_count": 31,
   "metadata": {},
   "outputs": [],
   "source": [
    "from ase.io import read\n",
    "from ase.build import molecule\n",
    "from dscribe.descriptors import SOAP\n",
    "from quippy.descriptors import Descriptor"
   ]
  },
  {
   "cell_type": "code",
   "execution_count": 32,
   "metadata": {},
   "outputs": [],
   "source": [
    "desdictSOAP = {\"nmax\": 6,\n",
    "           \"lmax\": 5,\n",
    "           \"rcut\": 3.0,\n",
    "           \"sigma\": 3.0/8,\n",
    "           \"periodic\": False}\n",
    "desdictGAP = {\"nmax\": 8,\n",
    "           \"lmax\": 8,\n",
    "           \"rcut\": 4.5,\n",
    "           \"sigma\": 4.5/8,\n",
    "           \"periodic\": False}"
   ]
  },
  {
   "cell_type": "code",
   "execution_count": 33,
   "metadata": {},
   "outputs": [
    {
     "name": "stdout",
     "output_type": "stream",
     "text": [
      "3\n",
      "-2866.8500371315304\n"
     ]
    }
   ],
   "source": [
    "#mol=molecule(\"H2O\")\n",
    "#print(mol)\n",
    "mol = read(\"/datavon1/DatabasesMolecules/LiH/LiH.xyz@:\",format=\"extxyz\")\n",
    "mol = mol[-3:]\n",
    "print(len(mol))\n",
    "print(mol[0].info[\"energy\"])"
   ]
  },
  {
   "cell_type": "code",
   "execution_count": 34,
   "metadata": {},
   "outputs": [],
   "source": [
    "Descriptor_description = f\"soap cutoff={desdictGAP['rcut']} zeta=2 delta = 1.0 atom_sigma = {desdictGAP['sigma']} l_max={desdictGAP['lmax']} n_max={desdictGAP['nmax']} n_Z=2 Z={{1 3}} n_species=2 species_Z={{1 3}}\"\n",
    "soapQ = Descriptor(Descriptor_description)\n",
    "soapsQ = soapQ.calc(mol, grad=True)\n",
    "#print(len(mol[0]))\n",
    "#print(mol[0])\n",
    "#print(soapsQ[2][\"data\"][0][:30])\n",
    "#print(soapsQ[2][\"data\"][1][:100])"
   ]
  },
  {
   "cell_type": "code",
   "execution_count": 35,
   "metadata": {},
   "outputs": [
    {
     "name": "stdout",
     "output_type": "stream",
     "text": [
      "[[[ 3.21047703e-02  7.06619352e-05  6.05338849e-05 ... -2.01372752e-07\n",
      "   -2.67252455e-07  0.00000000e+00]\n",
      "  [-1.46284264e-01  6.89337572e-05  5.62122948e-05 ...  7.27261260e-08\n",
      "    3.70116316e-08  0.00000000e+00]\n",
      "  [-8.63766297e-02  4.83431068e-05  3.75331862e-05 ...  9.81259727e-08\n",
      "    1.20503748e-07  0.00000000e+00]]\n",
      "\n",
      " [[ 2.57886139e-02  8.05837112e-07  6.98306934e-07 ...  6.81465115e-07\n",
      "    4.56607145e-07  0.00000000e+00]\n",
      "  [ 1.24469772e-02  3.88940490e-07  3.37040622e-07 ...  1.07931372e-07\n",
      "    2.70251697e-07  0.00000000e+00]\n",
      "  [-4.02388176e-03 -1.25737400e-07 -1.08959115e-07 ... -1.59553734e-07\n",
      "   -4.94288650e-08  0.00000000e+00]]\n",
      "\n",
      " [[ 1.83832236e-02  9.76261417e-07  7.06348066e-07 ...  2.84069315e-08\n",
      "    2.23912300e-08  0.00000000e+00]\n",
      "  [ 4.60646382e-04  3.29653462e-08 -9.05726689e-09 ...  7.04530534e-10\n",
      "    5.55332956e-10  0.00000000e+00]\n",
      "  [ 2.07494825e-03  1.56930870e-07  9.00405944e-08 ...  3.19076811e-09\n",
      "    2.51506301e-09  0.00000000e+00]]\n",
      "\n",
      " ...\n",
      "\n",
      " [[ 4.34958337e-05  1.84717203e-05  1.36875409e-05 ...  4.30658182e-08\n",
      "    6.38792804e-08  0.00000000e+00]\n",
      "  [ 3.34497575e-05  1.42053735e-05  1.05261788e-05 ...  1.98639886e-08\n",
      "    4.31519933e-09  0.00000000e+00]\n",
      "  [-1.47006296e-05 -6.24303284e-06 -4.62608603e-06 ...  2.43285962e-08\n",
      "    1.07394973e-08  0.00000000e+00]]\n",
      "\n",
      " [[-1.22782100e-04 -3.33687819e-05 -6.18901893e-05 ... -1.70935616e-08\n",
      "   -1.50854550e-08  0.00000000e+00]\n",
      "  [-1.72965682e-04 -4.38545815e-05 -8.56702600e-05 ... -2.44198426e-08\n",
      "   -2.15510638e-08  0.00000000e+00]\n",
      "  [-7.21574722e-05 -2.01964665e-05 -3.22840780e-05 ... -9.48447898e-09\n",
      "   -8.37026738e-09  0.00000000e+00]]\n",
      "\n",
      " [[-3.29858142e-04 -1.40083471e-04 -1.03801823e-04 ...  1.39134442e-07\n",
      "    1.84636859e-07  0.00000000e+00]\n",
      "  [-7.99279227e-05 -3.39436242e-05 -2.51522184e-05 ...  1.60720579e-07\n",
      "    1.13104855e-07  0.00000000e+00]\n",
      "  [ 1.17433576e-04  4.98714472e-05  3.69547319e-05 ... -1.72237134e-07\n",
      "   -9.67278599e-08  0.00000000e+00]]]\n"
     ]
    }
   ],
   "source": [
    "print(soapsQ[0][\"grad_data\"])"
   ]
  },
  {
   "cell_type": "code",
   "execution_count": 36,
   "metadata": {},
   "outputs": [],
   "source": [
    "\n",
    "soapD = SOAP(\n",
    "    species=[1,3],\n",
    "    rcut=desdictSOAP[\"rcut\"],\n",
    "    nmax=desdictSOAP[\"nmax\"],\n",
    "    lmax=desdictSOAP[\"lmax\"],\n",
    "    sigma=desdictSOAP[\"sigma\"]\n",
    ")\n",
    "soapsD = soapD.create(mol)\n",
    "soap_d, soap_vec = soapD.derivatives(mol,method=\"numerical\",attach=True)"
   ]
  },
  {
   "cell_type": "code",
   "execution_count": 42,
   "metadata": {},
   "outputs": [
    {
     "name": "stdout",
     "output_type": "stream",
     "text": [
      "468\n",
      "(3, 26, 26, 3, 468)\n",
      "(26, 26, 3, 468)\n",
      "26\n",
      "3\n",
      "468\n"
     ]
    }
   ],
   "source": [
    "print(len(soap_vec[0][0]))\n",
    "print(soap_d.shape)\n",
    "print(soap_d[0].shape) # which atom derivatives\n",
    "print(len(soap_d[0][0])) # w.r.t. to which atom in environment\n",
    "print(len(soap_d[0][0][0])) # 3 directions\n",
    "print(len(soap_d[0][0][0][0])) # derivatives of soap"
   ]
  },
  {
   "cell_type": "code",
   "execution_count": 38,
   "metadata": {},
   "outputs": [
    {
     "name": "stdout",
     "output_type": "stream",
     "text": [
      "[ 2.81534804e-01  4.49701941e-01  4.16551674e-01  4.15408994e-01\n",
      "  2.01627432e-01  2.82513878e-01  7.18319130e-01  6.65367455e-01\n",
      "  6.63542226e-01  3.22064079e-01  4.51265838e-01  6.16319170e-01\n",
      "  6.14628490e-01  2.98322776e-01  4.18000286e-01  6.12942449e-01\n",
      "  2.97504420e-01  4.16853633e-01  1.44399984e-01  2.02328618e-01\n",
      "  2.83496357e-01  1.26323516e-05 -5.61328970e-05  1.77528512e-04\n",
      " -4.33828600e-04  6.56706579e-04 -3.98423554e-04  2.49517035e-04\n",
      " -7.89619276e-04  1.93149819e-03]\n",
      "[ 2.14291764e-06 -1.84084882e-05  3.03220291e-06  1.17616346e-04\n",
      "  7.31247398e-04 -1.11004562e-03  1.58136006e-04 -2.60477913e-05\n",
      " -1.01036973e-03 -6.28169689e-03  9.53571959e-03  4.29053097e-06\n",
      "  1.66425728e-04  1.03470635e-03 -1.57070132e-03  6.45550002e-03\n",
      "  4.01353022e-02 -6.09260513e-02  2.49530242e-01 -3.78791026e-01\n",
      "  5.75011032e-01  1.24495468e-05 -4.68224937e-05  1.96409429e-04\n",
      " -6.58469826e-04  2.43292696e-04  6.39047636e-04  1.84715677e-04\n",
      " -7.01178478e-04  2.25259775e-03]\n"
     ]
    }
   ],
   "source": [
    "print((soapsD[0][0][:30]))\n",
    "print((soapsD[0][1][:30]))"
   ]
  },
  {
   "cell_type": "code",
   "execution_count": 39,
   "metadata": {},
   "outputs": [
    {
     "name": "stdout",
     "output_type": "stream",
     "text": [
      "78\n"
     ]
    }
   ],
   "source": [
    "soap = Descriptor(Descriptor_description)\n",
    "soaps = soap.calc(mol)\n",
    "soap_atoms=[]\n",
    "for m in soaps:\n",
    "    for at in m[\"data\"]:\n",
    "        #norm = np.linalg.norm(at)\n",
    "        soap_atoms.append(at)\n",
    "print(len(soap_atoms))"
   ]
  },
  {
   "cell_type": "code",
   "execution_count": 40,
   "metadata": {},
   "outputs": [
    {
     "ename": "IndexError",
     "evalue": "list index out of range",
     "output_type": "error",
     "traceback": [
      "\u001b[0;31m---------------------------------------------------------------------------\u001b[0m",
      "\u001b[0;31mIndexError\u001b[0m                                Traceback (most recent call last)",
      "\u001b[0;32m/tmp/ipykernel_47257/202968045.py\u001b[0m in \u001b[0;36m<cell line: 1>\u001b[0;34m()\u001b[0m\n\u001b[0;32m----> 1\u001b[0;31m \u001b[0mprint\u001b[0m\u001b[0;34m(\u001b[0m\u001b[0mlen\u001b[0m\u001b[0;34m(\u001b[0m\u001b[0msoapsQ\u001b[0m\u001b[0;34m[\u001b[0m\u001b[0;36m100\u001b[0m\u001b[0;34m]\u001b[0m\u001b[0;34m[\u001b[0m\u001b[0;34m\"data\"\u001b[0m\u001b[0;34m]\u001b[0m\u001b[0;34m[\u001b[0m\u001b[0;36m0\u001b[0m\u001b[0;34m]\u001b[0m\u001b[0;34m)\u001b[0m\u001b[0;34m)\u001b[0m\u001b[0;34m\u001b[0m\u001b[0;34m\u001b[0m\u001b[0m\n\u001b[0m\u001b[1;32m      2\u001b[0m \u001b[0mprint\u001b[0m\u001b[0;34m(\u001b[0m\u001b[0mlen\u001b[0m\u001b[0;34m(\u001b[0m\u001b[0mmol\u001b[0m\u001b[0;34m)\u001b[0m\u001b[0;34m)\u001b[0m\u001b[0;34m\u001b[0m\u001b[0;34m\u001b[0m\u001b[0m\n\u001b[1;32m      3\u001b[0m \u001b[0msizes\u001b[0m \u001b[0;34m=\u001b[0m \u001b[0;36m0\u001b[0m\u001b[0;34m\u001b[0m\u001b[0;34m\u001b[0m\u001b[0m\n\u001b[1;32m      4\u001b[0m \u001b[0;32mfor\u001b[0m \u001b[0ma\u001b[0m \u001b[0;32min\u001b[0m \u001b[0mmol\u001b[0m\u001b[0;34m:\u001b[0m\u001b[0;34m\u001b[0m\u001b[0;34m\u001b[0m\u001b[0m\n\u001b[1;32m      5\u001b[0m     \u001b[0msizes\u001b[0m \u001b[0;34m+=\u001b[0m \u001b[0mlen\u001b[0m\u001b[0;34m(\u001b[0m\u001b[0ma\u001b[0m\u001b[0;34m)\u001b[0m\u001b[0;34m\u001b[0m\u001b[0;34m\u001b[0m\u001b[0m\n",
      "\u001b[0;31mIndexError\u001b[0m: list index out of range"
     ]
    }
   ],
   "source": [
    "print(len(soapsQ[100][\"data\"][0]))\n",
    "print(len(mol))\n",
    "sizes = 0\n",
    "for a in mol:\n",
    "    sizes += len(a)\n",
    "print(sizes)"
   ]
  },
  {
   "cell_type": "code",
   "execution_count": null,
   "metadata": {},
   "outputs": [],
   "source": []
  }
 ],
 "metadata": {
  "kernelspec": {
   "display_name": "Python 3.8.9 64-bit ('3.8.9')",
   "language": "python",
   "name": "python3"
  },
  "language_info": {
   "codemirror_mode": {
    "name": "ipython",
    "version": 3
   },
   "file_extension": ".py",
   "mimetype": "text/x-python",
   "name": "python",
   "nbconvert_exporter": "python",
   "pygments_lexer": "ipython3",
   "version": "3.8.9"
  },
  "orig_nbformat": 4,
  "vscode": {
   "interpreter": {
    "hash": "c7cf64c44a2dc897f0859c4b499c1391eebcf29c682000c09d4a9da5e97b3fd6"
   }
  }
 },
 "nbformat": 4,
 "nbformat_minor": 2
}
