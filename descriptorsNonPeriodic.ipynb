{
 "cells": [
  {
   "cell_type": "code",
   "execution_count": 5,
   "id": "5ffeb6a2-819a-466d-babe-9e63ee8289d2",
   "metadata": {},
   "outputs": [],
   "source": [
    "from quippy.descriptors import Descriptor\n",
    "from ase.io import read\n",
    "import numpy as np"
   ]
  },
  {
   "cell_type": "code",
   "execution_count": 6,
   "id": "d1740060-d2ba-45ff-a14c-ad350b845e40",
   "metadata": {},
   "outputs": [],
   "source": [
    "#mol = read(\"data.xyz@:\",format=\"extxyz\")\n",
    "all_molecules = read(\"/datavon1/DatabasesMolecules/LiH/LiH.xyz@:\",format=\"extxyz\")"
   ]
  },
  {
   "cell_type": "code",
   "execution_count": 7,
   "id": "b6ca7e16-ffc6-4a22-b13e-cfee4a1718de",
   "metadata": {},
   "outputs": [],
   "source": [
    "#Descriptor_description = f\"soap cutoff=3 zeta=2 delta = 1.0 atom_sigma = 1.0 l_max=2 n_max=3 add_species=F\"\n",
    "Descriptor_description = f\"soap cutoff=5.0 zeta=2 delta = 1.0 atom_sigma =1.0 l_max=8 n_max=10 n_Z=2 Z={{1 3}} n_species=2 species_Z={{1 3}}\"\n",
    "soap = Descriptor(Descriptor_description)\n",
    "soaps = soap.calc(all_molecules, grad=True)"
   ]
  },
  {
   "cell_type": "code",
   "execution_count": 8,
   "id": "fe44e4d1-5903-4fc1-bc00-4d3ddcf8262f",
   "metadata": {},
   "outputs": [],
   "source": [
    "desc_soaps = []\n",
    "for a in soaps:\n",
    "    desc_soaps.extend(a[\"data\"])\n",
    "desc_soaps = np.array(desc_soaps)"
   ]
  },
  {
   "cell_type": "code",
   "execution_count": 9,
   "id": "07921904-2553-44de-abf6-19d4d46ef65e",
   "metadata": {},
   "outputs": [],
   "source": [
    "# CUR decompostion from QUIP\n",
    "import numpy as np\n",
    "np.random.seed(10)\n",
    "k = 10\n",
    "epsilon = 0.45\n",
    "c = k*(np.log(k))/(epsilon**2)\n",
    "\n",
    "n_struc = len(desc_soaps)\n",
    "trainT = np.transpose(desc_soaps)\n",
    "\n",
    "u,s,V = np.linalg.svd(trainT)"
   ]
  },
  {
   "cell_type": "code",
   "execution_count": null,
   "id": "717d6f0e-dee1-4980-ade1-b82dafb053d4",
   "metadata": {},
   "outputs": [
    {
     "name": "stdout",
     "output_type": "stream",
     "text": [
      "(66, 66)\n",
      "(10, 66)\n",
      "[0.01132244 0.00631873 0.00540122 0.01197489 0.00737003 0.00519207\n",
      " 0.01169453 0.00540704 0.00637812 0.02314218 0.01293746 0.01247448\n",
      " 0.05389146 0.03593209 0.03593196 0.02314225 0.0129375  0.01247447\n",
      " 0.01994297 0.00557422 0.01777782 0.01994296 0.01777784 0.00557423\n",
      " 0.01994295 0.00557424 0.01777785 0.01994298 0.01777778 0.00557424\n",
      " 0.01930968 0.00827416 0.03039849 0.00623203 0.00489082 0.02685884\n",
      " 0.00622675 0.00549072 0.01656373 0.03156417 0.00844582 0.01761038\n",
      " 0.00704648 0.00763723 0.00864527 0.03805104 0.00757054 0.00757054\n",
      " 0.00704651 0.00763723 0.00864527 0.01846063 0.00940974 0.03328524\n",
      " 0.01227209 0.00583702 0.0060588  0.00967913 0.00681209 0.00501641\n",
      " 0.01573803 0.00451842 0.00463069 0.02198178 0.00678623 0.09069499]\n"
     ]
    }
   ],
   "source": [
    "u,s,V = np.linalg.svd(trainT)\n",
    "print(V.shape)\n",
    "V = V[:k,:]\n",
    "print(V.shape)\n",
    "probV = 1/k*np.sum(V**2,axis=0)\n",
    "print((probV))"
   ]
  },
  {
   "cell_type": "code",
   "execution_count": null,
   "id": "046e168e-dda6-4dfd-a990-e7a8fc94e6c0",
   "metadata": {},
   "outputs": [
    {
     "name": "stdout",
     "output_type": "stream",
     "text": [
      "[61 62 34 59  5  2  7 37 19 23 25 29 55 56 36 33  1  8 64 58 42 48  4 47\n",
      " 46 43 49 31 40 50 44 52 57  0  6  3 54 17 11 10 16 60 38 41 28 20 22 26\n",
      " 51 30 24 21 18 27 63  9 15 35 32 39 53 14 13 45 12 65]\n"
     ]
    }
   ],
   "source": [
    "V = V[:k,:]\n",
    "probV = 1/k*np.sum(V**2,axis=0)\n",
    "print(np.argsort(probV))\n",
    "repres = [soa"
   ]
  },
  {
   "cell_type": "code",
   "execution_count": null,
   "id": "d1509f62-99c6-4b3b-96f4-119482e979f4",
   "metadata": {},
   "outputs": [],
   "source": [
    "C_vec = [np.random.choice(2, p=[1 - min(1, c * probV[strucN]), min(1, c * probV[strucN])],replace=False) for strucN in range(n_struc)]\n",
    "picked = np.nonzero(C_vec)[0]\n",
    "if self.multi_SOAP == False:\n",
    "    self.representing_set_descriptors = [self.training_set_descriptors[pos] for pos in picked]\n",
    "elif self.multi_SOAP == True:\n",
    "    self.representing_set_descriptors = []\n",
    "    for ind in range(len(self.training_set_descriptors)):\n",
    "        self.representing_set_descriptors.append([self.training_set_descriptors[ind][pos] for pos in picked])\n",
    "self.sparse = True\n",
    "return picked"
   ]
  },
  {
   "cell_type": "code",
   "execution_count": 21,
   "id": "87273634-bc54-49ca-aa69-5c6245c9afbd",
   "metadata": {},
   "outputs": [
    {
     "name": "stdout",
     "output_type": "stream",
     "text": [
      "8\n",
      "60\n",
      "56\n"
     ]
    }
   ],
   "source": [
    "print(len(all_molecules[100]))\n",
    "print(len(soaps[100][\"grad_data\"]))f\n",
    "print(8*7)"
   ]
  },
  {
   "cell_type": "code",
   "execution_count": null,
   "id": "025efc95-b91c-4583-ac2d-fd6a7a15604d",
   "metadata": {},
   "outputs": [
    {
     "name": "stdout",
     "output_type": "stream",
     "text": [
      "[[ 4.41703535e-01 -6.26006231e-03 -3.29416402e-03 -9.48082934e-01\n",
      "  -6.66118164e-02 -3.50526975e-02 -4.15073714e-01 -3.54400153e-01\n",
      "  -1.86495208e-01  8.65896544e-03  5.99977876e-04  3.12004897e-04\n",
      "   5.35367836e-03  4.51432567e-03  2.34759314e-03 -3.45261951e-05\n",
      "  -2.87489438e-05 -1.47662800e-05  0.00000000e+00]\n",
      " [-7.43935314e-02  9.27169760e-05  3.76215866e-04  7.70655815e-02\n",
      "   9.86597668e-04  4.00309821e-03  7.27509315e-02  5.24917334e-03\n",
      "   2.12973411e-02 -7.33653386e-04 -8.64826130e-06 -3.76434381e-05\n",
      "  -9.70756380e-04 -6.50721509e-05 -2.83226173e-04  6.47648854e-06\n",
      "   4.02619115e-07  1.88348629e-06  0.00000000e+00]\n",
      " [ 4.18480436e-02 -7.88349721e-04 -4.02641316e-04 -1.10547154e-01\n",
      "  -8.38838560e-03 -4.28430868e-03 -3.85045866e-02 -4.46280445e-02\n",
      "  -2.27936132e-02  1.05079315e-03  7.87995511e-05  3.98747298e-05\n",
      "   5.12668941e-04  5.92881924e-04  3.00016469e-04 -3.41271259e-06\n",
      "  -3.93825240e-06 -1.97492766e-06  0.00000000e+00]\n",
      " [ 1.59450909e-01 -2.47086760e-03 -1.43080635e-03 -3.34843720e-01\n",
      "  -2.62919451e-02 -1.52249019e-02 -1.48511292e-01 -1.39883330e-01\n",
      "  -8.10024493e-02  3.01549897e-03  2.36332493e-04  1.36673264e-04\n",
      "   1.90357013e-03  1.77820440e-03  1.02835305e-03 -1.21993273e-05\n",
      "  -1.13022508e-05 -6.52706252e-06  0.00000000e+00]\n",
      " [ 2.15172377e-01 -2.79879053e-03 -5.82766342e-04 -2.16396820e-01\n",
      "  -2.97805113e-02 -6.20102163e-03 -1.99770249e-01 -1.58439663e-01\n",
      "  -3.29914981e-02  2.02116559e-03  2.77752239e-04  5.65523792e-05\n",
      "   2.64577306e-03  2.08979812e-03  4.25505163e-04 -1.75203707e-05\n",
      "  -1.37816477e-05 -2.74249299e-06  0.00000000e+00]\n",
      " [ 0.00000000e+00  0.00000000e+00  0.00000000e+00  0.00000000e+00\n",
      "   0.00000000e+00  0.00000000e+00  0.00000000e+00  0.00000000e+00\n",
      "   0.00000000e+00  0.00000000e+00  0.00000000e+00  0.00000000e+00\n",
      "   0.00000000e+00  0.00000000e+00  0.00000000e+00  0.00000000e+00\n",
      "   0.00000000e+00  0.00000000e+00  0.00000000e+00]\n",
      " [ 1.49458409e-01 -2.19350874e-03 -9.04366146e-04 -3.18525859e-01\n",
      "  -2.33407423e-02 -9.62341586e-03 -1.40510683e-01 -1.24182376e-01\n",
      "  -5.12016804e-02  2.86160239e-03  2.08395638e-04  8.31874542e-05\n",
      "   1.79907292e-03  1.56801039e-03  6.25933310e-04 -1.15170155e-05\n",
      "  -9.89888604e-06 -3.82244113e-06  0.00000000e+00]\n",
      " [ 0.00000000e+00  0.00000000e+00  0.00000000e+00  0.00000000e+00\n",
      "   0.00000000e+00  0.00000000e+00  0.00000000e+00  0.00000000e+00\n",
      "   0.00000000e+00  0.00000000e+00  0.00000000e+00  0.00000000e+00\n",
      "   0.00000000e+00  0.00000000e+00  0.00000000e+00  0.00000000e+00\n",
      "   0.00000000e+00  0.00000000e+00  0.00000000e+00]\n",
      " [-6.47043110e-02  3.82463658e-04  3.55004805e-04  6.18752032e-02\n",
      "   4.06963097e-03  3.77740300e-03  6.15251820e-02  2.16515947e-02\n",
      "   2.00965920e-02 -5.83601207e-04 -3.75848150e-05 -3.55264850e-05\n",
      "  -8.18784845e-04 -2.82788888e-04 -2.67298362e-04  5.44823639e-06\n",
      "   1.84634677e-06  1.77782090e-06  0.00000000e+00]]\n"
     ]
    }
   ],
   "source": [
    "h=0.001\n",
    "iatom = 0\n",
    "direction=0\n",
    "tmpmol = mol[0].copy()\n",
    "pos = tmpmol.get_positions()\n",
    "pos[iatom][direction] += h\n",
    "tmpmol.set_positions(pos)\n",
    "Kplus = soap.calc(tmpmol)['data']\n",
    "pos[iatom][direction] += -2.0*h\n",
    "tmpmol.set_positions(pos)\n",
    "Kminus = soap.calc(tmpmol)['data']\n",
    "pos[iatom][direction] += h\n",
    "tmpmol.set_positions(pos)\n",
    "print((Kplus-Kminus)/(2.0*h))"
   ]
  },
  {
   "cell_type": "code",
   "execution_count": null,
   "id": "c5db4220-06cb-479d-93a7-55352b97e7d3",
   "metadata": {},
   "outputs": [
    {
     "name": "stdout",
     "output_type": "stream",
     "text": [
      "[0 2 3 5 4 1]\n"
     ]
    }
   ],
   "source": [
    "import numpy as np\n",
    "a = np.array([2,10,2,3,9,5])\n",
    "print(np.argsort(a))\n"
   ]
  },
  {
   "cell_type": "code",
   "execution_count": null,
   "id": "8db815ab-a8eb-4842-a05c-63846b6cdb5f",
   "metadata": {},
   "outputs": [
    {
     "name": "stdout",
     "output_type": "stream",
     "text": [
      "[[1 2]\n",
      " [2 3]]\n",
      "[[10 20]\n",
      " [20 30]]\n",
      "[[1. 0.]\n",
      " [0. 1.]]\n",
      "[[1. 2. 0. 0.]\n",
      " [2. 3. 0. 0.]\n",
      " [0. 0. 1. 2.]\n",
      " [0. 0. 2. 3.]]\n"
     ]
    }
   ],
   "source": [
    "a1 = np.array([[1,2],[2,3]])\n",
    "print(a1)\n",
    "a2 = np.array([[10,20],[20,30]])\n",
    "print(a2)\n",
    "print(np.eye(2))\n",
    "print(np.kron(np.eye(2),a1))"
   ]
  },
  {
   "cell_type": "code",
   "execution_count": null,
   "id": "61ed6237-430c-4785-abf1-5d8d067041c0",
   "metadata": {},
   "outputs": [
    {
     "data": {
      "text/plain": [
       "array([[ 1.,  2.,  0.,  0.],\n",
       "       [ 2.,  3.,  0.,  0.],\n",
       "       [ 0.,  0., 10., 20.],\n",
       "       [ 0.,  0., 20., 30.]])"
      ]
     },
     "execution_count": 64,
     "metadata": {},
     "output_type": "execute_result"
    }
   ],
   "source": [
    "a1 = np.array([[1,2],[2,3]])\n",
    "a2 = np.array([[10,20],[20,30]])\n",
    "np.block([[a1,np.zeros((2,2))], [np.zeros((2,2,)), a2]])"
   ]
  },
  {
   "cell_type": "code",
   "execution_count": null,
   "id": "0647c8ac-fbb8-4f2e-bfbf-a081584f22a3",
   "metadata": {},
   "outputs": [
    {
     "name": "stdout",
     "output_type": "stream",
     "text": [
      "has_grad_data\n",
      "ii\n",
      "pos\n",
      "grad_covariance_cutoff\n",
      "covariance_cutoff\n",
      "data\n",
      "has_data\n",
      "grad_data\n",
      "ci\n",
      "grad_index_0based\n"
     ]
    }
   ],
   "source": [
    "for a in soaps[0]:\n",
    "    print(a)"
   ]
  }
 ],
 "metadata": {
  "kernelspec": {
   "display_name": "Python 3.8.9 64-bit ('3.8.9')",
   "language": "python",
   "name": "python3"
  },
  "language_info": {
   "codemirror_mode": {
    "name": "ipython",
    "version": 3
   },
   "file_extension": ".py",
   "mimetype": "text/x-python",
   "name": "python",
   "nbconvert_exporter": "python",
   "pygments_lexer": "ipython3",
   "version": "3.8.9"
  },
  "vscode": {
   "interpreter": {
    "hash": "c7cf64c44a2dc897f0859c4b499c1391eebcf29c682000c09d4a9da5e97b3fd6"
   }
  }
 },
 "nbformat": 4,
 "nbformat_minor": 5
}
